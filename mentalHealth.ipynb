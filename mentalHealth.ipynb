{
 "cells": [
  {
   "cell_type": "markdown",
   "id": "bfe7cd9d",
   "metadata": {},
   "source": [
    "# Mental health\n",
    "\n",
    "\n",
    "## A topic to talk about\n",
    "\n",
    "Insomnia "
   ]
  },
  {
   "cell_type": "code",
   "execution_count": 1,
   "id": "8e0a60aa",
   "metadata": {},
   "outputs": [
    {
     "name": "stdout",
     "output_type": "stream",
     "text": [
      "a place we call home\n"
     ]
    }
   ],
   "source": [
    "peace = \"a place we call home\"\n",
    "print(peace)"
   ]
  },
  {
   "cell_type": "code",
   "execution_count": 3,
   "id": "4b826505",
   "metadata": {},
   "outputs": [
    {
     "name": "stdout",
     "output_type": "stream",
     "text": [
      "72\n"
     ]
    }
   ],
   "source": [
    "Multiply = 8*9\n",
    "print(Multiply)"
   ]
  },
  {
   "cell_type": "code",
   "execution_count": null,
   "id": "eda15d7c",
   "metadata": {},
   "outputs": [],
   "source": []
  }
 ],
 "metadata": {
  "kernelspec": {
   "display_name": "Python 3 (ipykernel)",
   "language": "python",
   "name": "python3"
  },
  "language_info": {
   "codemirror_mode": {
    "name": "ipython",
    "version": 3
   },
   "file_extension": ".py",
   "mimetype": "text/x-python",
   "name": "python",
   "nbconvert_exporter": "python",
   "pygments_lexer": "ipython3",
   "version": "3.9.13"
  }
 },
 "nbformat": 4,
 "nbformat_minor": 5
}
